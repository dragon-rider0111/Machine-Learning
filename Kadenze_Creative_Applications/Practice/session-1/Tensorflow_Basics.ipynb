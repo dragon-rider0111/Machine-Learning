{
 "cells": [
  {
   "cell_type": "code",
   "execution_count": 11,
   "metadata": {
    "collapsed": true
   },
   "outputs": [],
   "source": [
    "import tensorflow as tf\n",
    "import matplotlib.pyplot as plt"
   ]
  },
  {
   "cell_type": "code",
   "execution_count": 2,
   "metadata": {
    "collapsed": false
   },
   "outputs": [
    {
     "name": "stdout",
     "output_type": "stream",
     "text": [
      "Tensor(\"LinSpace:0\", shape=(100,), dtype=float32)\n"
     ]
    }
   ],
   "source": [
    "x = tf.linspace(-3.0, 3.0, 100)\n",
    "\n",
    "# tensorflow doesn't execute stuff then and there\n",
    "print(x)"
   ]
  },
  {
   "cell_type": "code",
   "execution_count": 3,
   "metadata": {
    "collapsed": true
   },
   "outputs": [],
   "source": [
    "g = tf.get_default_graph()"
   ]
  },
  {
   "cell_type": "code",
   "execution_count": 4,
   "metadata": {
    "collapsed": false
   },
   "outputs": [
    {
     "data": {
      "text/plain": [
       "['LinSpace/start', 'LinSpace/stop', 'LinSpace/num', 'LinSpace']"
      ]
     },
     "execution_count": 4,
     "metadata": {},
     "output_type": "execute_result"
    }
   ],
   "source": [
    "[op.name for op in g.get_operations()]"
   ]
  },
  {
   "cell_type": "code",
   "execution_count": 5,
   "metadata": {
    "collapsed": false
   },
   "outputs": [
    {
     "name": "stdout",
     "output_type": "stream",
     "text": [
      "[-3.         -2.939394   -2.87878799 -2.81818175 -2.75757575 -2.69696975\n",
      " -2.63636351 -2.5757575  -2.5151515  -2.4545455  -2.3939395  -2.33333325\n",
      " -2.27272725 -2.21212125 -2.15151501 -2.090909   -2.030303   -1.969697\n",
      " -1.90909088 -1.84848475 -1.78787875 -1.72727275 -1.66666663 -1.6060605\n",
      " -1.5454545  -1.4848485  -1.42424238 -1.36363626 -1.30303025 -1.24242425\n",
      " -1.18181813 -1.12121201 -1.060606   -1.         -0.939394   -0.87878776\n",
      " -0.81818175 -0.75757575 -0.69696951 -0.63636351 -0.5757575  -0.5151515\n",
      " -0.4545455  -0.39393926 -0.33333325 -0.27272725 -0.21212101 -0.15151501\n",
      " -0.090909   -0.030303    0.030303    0.09090924  0.15151525  0.21212125\n",
      "  0.27272749  0.33333349  0.3939395   0.4545455   0.5151515   0.57575774\n",
      "  0.63636374  0.69696975  0.75757599  0.81818199  0.87878799  0.939394    1.\n",
      "  1.060606    1.12121201  1.18181849  1.24242449  1.30303049  1.36363649\n",
      "  1.4242425   1.4848485   1.5454545   1.60606098  1.66666698  1.72727299\n",
      "  1.78787899  1.84848499  1.909091    1.969697    2.030303    2.090909\n",
      "  2.15151548  2.21212149  2.27272749  2.33333349  2.3939395   2.4545455\n",
      "  2.5151515   2.57575798  2.63636398  2.69696999  2.75757599  2.81818199\n",
      "  2.87878799  2.939394    3.        ]\n",
      "[-3.         -2.939394   -2.87878799 -2.81818175 -2.75757575 -2.69696975\n",
      " -2.63636351 -2.5757575  -2.5151515  -2.4545455  -2.3939395  -2.33333325\n",
      " -2.27272725 -2.21212125 -2.15151501 -2.090909   -2.030303   -1.969697\n",
      " -1.90909088 -1.84848475 -1.78787875 -1.72727275 -1.66666663 -1.6060605\n",
      " -1.5454545  -1.4848485  -1.42424238 -1.36363626 -1.30303025 -1.24242425\n",
      " -1.18181813 -1.12121201 -1.060606   -1.         -0.939394   -0.87878776\n",
      " -0.81818175 -0.75757575 -0.69696951 -0.63636351 -0.5757575  -0.5151515\n",
      " -0.4545455  -0.39393926 -0.33333325 -0.27272725 -0.21212101 -0.15151501\n",
      " -0.090909   -0.030303    0.030303    0.09090924  0.15151525  0.21212125\n",
      "  0.27272749  0.33333349  0.3939395   0.4545455   0.5151515   0.57575774\n",
      "  0.63636374  0.69696975  0.75757599  0.81818199  0.87878799  0.939394    1.\n",
      "  1.060606    1.12121201  1.18181849  1.24242449  1.30303049  1.36363649\n",
      "  1.4242425   1.4848485   1.5454545   1.60606098  1.66666698  1.72727299\n",
      "  1.78787899  1.84848499  1.909091    1.969697    2.030303    2.090909\n",
      "  2.15151548  2.21212149  2.27272749  2.33333349  2.3939395   2.4545455\n",
      "  2.5151515   2.57575798  2.63636398  2.69696999  2.75757599  2.81818199\n",
      "  2.87878799  2.939394    3.        ]\n"
     ]
    }
   ],
   "source": [
    "# We're first going to create a session:\n",
    "sess = tf.Session()\n",
    "\n",
    "# Now we tell our session to compute anything we've created in the tensorflow graph.\n",
    "computed_x = sess.run(x)\n",
    "print(computed_x)\n",
    "\n",
    "# Alternatively, we could tell the previous Tensor to evaluate itself using this session:\n",
    "computed_x = x.eval(session=sess)\n",
    "print(computed_x)\n",
    "\n",
    "# We can close the session after we're done like so:\n",
    "sess.close()"
   ]
  },
  {
   "cell_type": "code",
   "execution_count": 6,
   "metadata": {
    "collapsed": false
   },
   "outputs": [
    {
     "data": {
      "text/plain": [
       "array([-3.        , -2.939394  , -2.87878799, -2.81818175, -2.75757575,\n",
       "       -2.69696975, -2.63636351, -2.5757575 , -2.5151515 , -2.4545455 ,\n",
       "       -2.3939395 , -2.33333325, -2.27272725, -2.21212125, -2.15151501,\n",
       "       -2.090909  , -2.030303  , -1.969697  , -1.90909088, -1.84848475,\n",
       "       -1.78787875, -1.72727275, -1.66666663, -1.6060605 , -1.5454545 ,\n",
       "       -1.4848485 , -1.42424238, -1.36363626, -1.30303025, -1.24242425,\n",
       "       -1.18181813, -1.12121201, -1.060606  , -1.        , -0.939394  ,\n",
       "       -0.87878776, -0.81818175, -0.75757575, -0.69696951, -0.63636351,\n",
       "       -0.5757575 , -0.5151515 , -0.4545455 , -0.39393926, -0.33333325,\n",
       "       -0.27272725, -0.21212101, -0.15151501, -0.090909  , -0.030303  ,\n",
       "        0.030303  ,  0.09090924,  0.15151525,  0.21212125,  0.27272749,\n",
       "        0.33333349,  0.3939395 ,  0.4545455 ,  0.5151515 ,  0.57575774,\n",
       "        0.63636374,  0.69696975,  0.75757599,  0.81818199,  0.87878799,\n",
       "        0.939394  ,  1.        ,  1.060606  ,  1.12121201,  1.18181849,\n",
       "        1.24242449,  1.30303049,  1.36363649,  1.4242425 ,  1.4848485 ,\n",
       "        1.5454545 ,  1.60606098,  1.66666698,  1.72727299,  1.78787899,\n",
       "        1.84848499,  1.909091  ,  1.969697  ,  2.030303  ,  2.090909  ,\n",
       "        2.15151548,  2.21212149,  2.27272749,  2.33333349,  2.3939395 ,\n",
       "        2.4545455 ,  2.5151515 ,  2.57575798,  2.63636398,  2.69696999,\n",
       "        2.75757599,  2.81818199,  2.87878799,  2.939394  ,  3.        ], dtype=float32)"
      ]
     },
     "execution_count": 6,
     "metadata": {},
     "output_type": "execute_result"
    }
   ],
   "source": [
    "sess = tf.InteractiveSession()\n",
    "x.eval()"
   ]
  },
  {
   "cell_type": "code",
   "execution_count": 7,
   "metadata": {
    "collapsed": false
   },
   "outputs": [
    {
     "name": "stdout",
     "output_type": "stream",
     "text": [
      "(100,)\n",
      "[100]\n"
     ]
    }
   ],
   "source": [
    "# We can find out the shape of a tensor like so:\n",
    "print(x.get_shape())\n",
    "\n",
    "# %% Or in a more friendly format\n",
    "print(x.get_shape().as_list())"
   ]
  },
  {
   "cell_type": "code",
   "execution_count": 8,
   "metadata": {
    "collapsed": true
   },
   "outputs": [],
   "source": [
    "# The 1 dimensional gaussian takes two parameters, the mean value, and the standard deviation, which is commonly denoted by the name sigma.\n",
    "mean = 0.0\n",
    "sigma = 1.0\n",
    "\n",
    "# Don't worry about trying to learn or remember this formula.  I always have to refer to textbooks or check online for the exact formula.\n",
    "z = (tf.exp(tf.negative(tf.pow(x - mean, 2.0) /\n",
    "                   (2.0 * tf.pow(sigma, 2.0)))) *\n",
    "     (1.0 / (sigma * tf.sqrt(2.0 * 3.1415))))"
   ]
  },
  {
   "cell_type": "code",
   "execution_count": 12,
   "metadata": {
    "collapsed": false
   },
   "outputs": [
    {
     "data": {
      "text/plain": [
       "[<matplotlib.lines.Line2D at 0x10ea285c0>]"
      ]
     },
     "execution_count": 12,
     "metadata": {},
     "output_type": "execute_result"
    },
    {
     "data": {
      "image/png": "[encoded data removed]",
      "text/plain": [
       "<matplotlib.figure.Figure at 0x10dfc2898>"
      ]
     },
     "metadata": {},
     "output_type": "display_data"
    }
   ],
   "source": [
    "res = z.eval()\n",
    "%matplotlib inline\n",
    "plt.plot(res)"
   ]
  },
  {
   "cell_type": "code",
   "execution_count": 13,
   "metadata": {
    "collapsed": false
   },
   "outputs": [
    {
     "data": {
      "text/plain": [
       "<matplotlib.image.AxesImage at 0x10ea57c50>"
      ]
     },
     "execution_count": 13,
     "metadata": {},
     "output_type": "execute_result"
    },
    {
     "data": {
      "image/png": "[encoded data removed]",
      "text/plain": [
       "<matplotlib.figure.Figure at 0x10e8d5160>"
      ]
     },
     "metadata": {},
     "output_type": "display_data"
    }
   ],
   "source": [
    "# Let's store the number of values in our Gaussian curve.\n",
    "ksize = z.get_shape().as_list()[0]\n",
    "\n",
    "# Let's multiply the two to get a 2d gaussian\n",
    "z_2d = tf.matmul(tf.reshape(z, [ksize, 1]), tf.reshape(z, [1, ksize]))\n",
    "\n",
    "# Execute the graph\n",
    "plt.imshow(z_2d.eval())"
   ]
  },
  {
   "cell_type": "code",
   "execution_count": null,
   "metadata": {
    "collapsed": true
   },
   "outputs": [],
   "source": []
  }
 ],
 "metadata": {
  "anaconda-cloud": {},
  "kernelspec": {
   "display_name": "Python [conda env:tensorflow]",
   "language": "python",
   "name": "conda-env-tensorflow-py"
  },
  "language_info": {
   "codemirror_mode": {
    "name": "ipython",
    "version": 3
   },
   "file_extension": ".py",
   "mimetype": "text/x-python",
   "name": "python",
   "nbconvert_exporter": "python",
   "pygments_lexer": "ipython3",
   "version": "3.5.2"
  }
 },
 "nbformat": 4,
 "nbformat_minor": 1
}
